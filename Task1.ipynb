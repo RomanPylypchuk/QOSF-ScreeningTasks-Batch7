{
 "cells": [
  {
   "cell_type": "markdown",
   "metadata": {},
   "source": [
    "### This version of Task 1 formulates the task of finding minimum as QUBO and solves it using QAOA\n",
    "#### Given an array of numbers $N = [n_0, n_1, ..., n_D]$, encode index of each number in the array as in one hot encoding, e.g. <br> \n",
    "$n_0 \\Rightarrow [1, 0, 0, ... , 0]$, $n_1 \\Rightarrow [0, 1, 0, 0 ... 0]$, ... , $ n_N \\Rightarrow [0, 0, ... , 1]$<br>\n",
    "Define Hamiltonian over binary variable x as $H(N, x) = \\left( \\sum_{n=0}^{D} N_i x_i \\right)^2$, this way the minimum x will correspond to the encoded index of the smallest element $n_j$.<br>\n",
    "Also, one has to add the constraint, which limits all the binary x's only to one-hot encoded solutions, where $\\sum x_i = 1$<br>\n",
    "For this, one adds penalty $P(x) = \\left(\\sum_i x_i - 1 \\right)^2 = -\\sum x_i + \\sum_{i<j} x_i x_j$<br>\n",
    "Total cost is the Hamiltonian plus penalty $Q(N,x) = H(N,x) + \\lambda P(x)$<br>\n",
    "We formulate this optimization as QuadraticProgram from Qiskit, and solve it using QAOA."
   ]
  },
  {
   "cell_type": "code",
   "execution_count": 177,
   "metadata": {},
   "outputs": [],
   "source": [
    "from qiskit.utils import algorithm_globals\n",
    "from qiskit.algorithms.minimum_eigensolvers import QAOA, NumPyMinimumEigensolver\n",
    "from qiskit.algorithms.optimizers import COBYLA\n",
    "from qiskit.primitives import Sampler\n",
    "from qiskit_optimization import QuadraticProgram\n",
    "from qiskit_optimization.algorithms import MinimumEigenOptimizer"
   ]
  },
  {
   "cell_type": "code",
   "execution_count": 178,
   "metadata": {},
   "outputs": [],
   "source": [
    "# Returns linear and quadratic coefficients of H for QuadraticProgram\n",
    "def hamiltonian(n: list) -> (list, dict):\n",
    "    linear = [ni**2 for ni in n]\n",
    "    xs = [(\"x\",i) for i in range(len(n))]\n",
    "    nxs = list(zip(xs,n))\n",
    "    quadratic = {(x+str(i),x+str(j)) : ni*nj for ((x,i), ni) in nxs for ((x,j),nj) in nxs  if i<j}\n",
    "    return (linear, quadratic)"
   ]
  },
  {
   "cell_type": "code",
   "execution_count": 179,
   "metadata": {},
   "outputs": [
    {
     "data": {
      "text/plain": [
       "([289, 9, 2401], {('x0', 'x1'): 51, ('x0', 'x2'): 833, ('x1', 'x2'): 147})"
      ]
     },
     "execution_count": 179,
     "metadata": {},
     "output_type": "execute_result"
    }
   ],
   "source": [
    "hamiltonian([17,3,49])"
   ]
  },
  {
   "cell_type": "code",
   "execution_count": 180,
   "metadata": {},
   "outputs": [],
   "source": [
    "# Returns linear and quadratic coefficients of P for QuadraticProgram (here lambda above is l)\n",
    "def penalty(l: float, n: list) -> (list, dict):\n",
    "    linear = [-l for ni in n]\n",
    "    quadratic = {(\"x\"+str(i), \"x\"+str(j)) : l for i in range(len(n)) for j in range(len(n)) if i<j}\n",
    "    return(linear, quadratic)"
   ]
  },
  {
   "cell_type": "code",
   "execution_count": 181,
   "metadata": {},
   "outputs": [
    {
     "data": {
      "text/plain": [
       "([-4761, -4761, -4761],\n",
       " {('x0', 'x1'): 4761, ('x0', 'x2'): 4761, ('x1', 'x2'): 4761})"
      ]
     },
     "execution_count": 181,
     "metadata": {},
     "output_type": "execute_result"
    }
   ],
   "source": [
    "penalty(4761,[17,3,49])"
   ]
  },
  {
   "cell_type": "code",
   "execution_count": 182,
   "metadata": {},
   "outputs": [],
   "source": [
    "# Combines coefficients of Hamiltonian and penalty with lambda = (sum of n's)^2\n",
    "def qubo_params(n: list) -> (list, dict):\n",
    "    l = sum(n)**2\n",
    "    (h_lin, h_q) = hamiltonian(n)\n",
    "    (p_lin, p_q) = penalty(l, n)\n",
    "    q_lin = [x + y for (x,y) in zip(h_lin,p_lin)]\n",
    "    q_q = {k: h_q[k] + p_q[k] for k in h_q.keys()}\n",
    "    return (q_lin, q_q)"
   ]
  },
  {
   "cell_type": "code",
   "execution_count": 183,
   "metadata": {},
   "outputs": [
    {
     "data": {
      "text/plain": [
       "([-4472, -4752, -2360],\n",
       " {('x0', 'x1'): 4812, ('x0', 'x2'): 5594, ('x1', 'x2'): 4908})"
      ]
     },
     "execution_count": 183,
     "metadata": {},
     "output_type": "execute_result"
    }
   ],
   "source": [
    "qubo_params([17,3,49])"
   ]
  },
  {
   "cell_type": "code",
   "execution_count": 184,
   "metadata": {},
   "outputs": [],
   "source": [
    "\"\"\" Formulates QuadraticProgram using qubo_params above and solves for minimum using QAOA.\n",
    "    Then finds maximum\n",
    "\"\"\"\n",
    "def find_the_largest_number(number_1: int, number_2: int) -> int:\n",
    "    numbers = [number_1, number_2]\n",
    "    qubo = QuadraticProgram()\n",
    "    qubo.binary_var(\"x0\")\n",
    "    qubo.binary_var(\"x1\")\n",
    "    (lin,quadr) = qubo_params(numbers)\n",
    "    qubo.minimize(linear=lin, quadratic=quadr)\n",
    "    qaoa_mes = QAOA(sampler=Sampler(), optimizer=COBYLA(), initial_point=[0.0, 0.0])\n",
    "    qaoa = MinimumEigenOptimizer(qaoa_mes)  # using QAOA\n",
    "    qaoa_result = qaoa.solve(qubo)\n",
    "    indicator = list(qaoa_result.x)\n",
    "    return numbers[indicator.index(0)]"
   ]
  },
  {
   "cell_type": "code",
   "execution_count": 185,
   "metadata": {},
   "outputs": [
    {
     "data": {
      "text/plain": [
       "9"
      ]
     },
     "execution_count": 185,
     "metadata": {},
     "output_type": "execute_result"
    }
   ],
   "source": [
    "find_the_largest_number(9,7)"
   ]
  },
  {
   "cell_type": "code",
   "execution_count": null,
   "metadata": {},
   "outputs": [],
   "source": []
  }
 ],
 "metadata": {
  "kernelspec": {
   "display_name": "Python 3 (ipykernel)",
   "language": "python",
   "name": "python3"
  },
  "language_info": {
   "codemirror_mode": {
    "name": "ipython",
    "version": 3
   },
   "file_extension": ".py",
   "mimetype": "text/x-python",
   "name": "python",
   "nbconvert_exporter": "python",
   "pygments_lexer": "ipython3",
   "version": "3.8.10"
  }
 },
 "nbformat": 4,
 "nbformat_minor": 4
}
