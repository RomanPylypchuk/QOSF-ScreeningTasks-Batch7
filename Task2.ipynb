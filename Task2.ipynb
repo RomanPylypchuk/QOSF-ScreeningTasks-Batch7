{
 "cells": [
  {
   "cell_type": "markdown",
   "metadata": {},
   "source": [
    "### The following code uses variational form U3 (three parameters) for single qubit state, and COBYLA optimizer to minimize the cost<br>\n",
    "$$ C(p_0, p_1) = (p_0 \\cdot S_1 - p_1 \\cdot S_2)^2 $$\n",
    "#### where<br>\n",
    "$S_1$ - area formed by smallest and second largest sides<br>\n",
    "$S_2$ - area formed by second smallest and largest sides<br>\n",
    "#### If given sides may form a rectangle, areas become equal and state with even $p_0, p_1$ probabilities will minimize the cost"
   ]
  },
  {
   "cell_type": "code",
   "execution_count": 2,
   "metadata": {},
   "outputs": [],
   "source": [
    "from qiskit import QuantumCircuit, ClassicalRegister, QuantumRegister\n",
    "from qiskit import Aer\n",
    "import numpy as np\n",
    "import scipy as sp\n",
    "from qiskit.algorithms.optimizers import COBYLA\n",
    "from scipy.optimize import minimize\n",
    "\n",
    "\n",
    "backend = Aer.get_backend(\"aer_simulator\")"
   ]
  },
  {
   "cell_type": "code",
   "execution_count": 3,
   "metadata": {},
   "outputs": [],
   "source": [
    "# Prepare single qubit state with given three parameters\n",
    "def prepare_variational(params) -> QuantumCircuit: \n",
    "    \"\"\"Prepare single qubit state using U3 variational form. Params: theta,phi,lambda\"\"\"\n",
    "    qr = QuantumRegister(1, name=\"q\")\n",
    "    cr = ClassicalRegister(1, name='c')\n",
    "    qc = QuantumCircuit(qr, cr)\n",
    "    qc.u(params[0], params[1], params[2], qr[0])\n",
    "    qc.measure(qr, cr[0])\n",
    "    return qc"
   ]
  },
  {
   "cell_type": "code",
   "execution_count": 4,
   "metadata": {},
   "outputs": [],
   "source": [
    "# Convert measurement counts to probability distribution\n",
    "def counts_to_distr(counts) -> dict:\n",
    "    n_shots = sum(counts.values())\n",
    "    return {int(k, 2): v/n_shots for k, v in counts.items()}"
   ]
  },
  {
   "cell_type": "code",
   "execution_count": 5,
   "metadata": {},
   "outputs": [],
   "source": [
    "# Create cost function(params), given sides. This is curried\n",
    "def make_objective(sides: list):\n",
    "    def cost(params):\n",
    "        circuit = prepare_variational(params)\n",
    "        result = backend.run(circuit).result()\n",
    "        distr = counts_to_distr(result.get_counts())\n",
    "        s_sorted = sorted(sides)\n",
    "        \n",
    "        #Cost is difference of areas of 2 rectangles:\n",
    "        #Rectangle 1 sides: (smallest,2nd largest)\n",
    "        #Rectangle 2 sides: (2nd smallest, largest)\n",
    "        #If given sides are repeated, even distribution will correspond to minimal cost\n",
    "        return (distr.get(0,0)*(s_sorted[0]*s_sorted[2]) - distr.get(1,0)*(s_sorted[1]*s_sorted[3]))**2\n",
    "    return cost"
   ]
  },
  {
   "cell_type": "code",
   "execution_count": 18,
   "metadata": {},
   "outputs": [],
   "source": [
    "\"\"\"Use COBYLA optimizer to find params, that minimize the cost. \n",
    "   Then prepare the state using found params and get the distribution.\n",
    "   If the distribution is close to even, one may form a rectangle\n",
    "   \"\"\"\n",
    "def is_rectangle(a: int, b: int, c: int, d: int) -> bool:\n",
    "    \n",
    "    params = np.random.rand(3)\n",
    "    #Minimize the cost using COBYLA\n",
    "    result = minimize(fun=make_objective([a,b,c,d]), x0=params, method='COBYLA', \n",
    "                  options={'maxiter': 5000, 'disp': False}, tol=0.0001)\n",
    "    \n",
    "    # Obtain the output distribution using the final parameters\n",
    "    qc = prepare_variational(result.x)\n",
    "    counts = backend.run(qc, shots=10000).result().get_counts()\n",
    "    output_distr = counts_to_distr(counts)\n",
    "    \n",
    "    #Optimal params should correspond to even distribution (like |x> or |-x> state)\n",
    "    return np.isclose(output_distr.get(0,0), output_distr.get(1,0), atol=0.1)"
   ]
  },
  {
   "cell_type": "code",
   "execution_count": 19,
   "metadata": {},
   "outputs": [
    {
     "data": {
      "text/plain": [
       "True"
      ]
     },
     "execution_count": 19,
     "metadata": {},
     "output_type": "execute_result"
    }
   ],
   "source": [
    "is_rectangle(6,9,9,6)"
   ]
  },
  {
   "cell_type": "code",
   "execution_count": 20,
   "metadata": {},
   "outputs": [
    {
     "data": {
      "text/plain": [
       "False"
      ]
     },
     "execution_count": 20,
     "metadata": {},
     "output_type": "execute_result"
    }
   ],
   "source": [
    "is_rectangle(5,7,4,7)"
   ]
  },
  {
   "cell_type": "code",
   "execution_count": 21,
   "metadata": {},
   "outputs": [],
   "source": [
    "def is_rectangle_classic(a: int, b: int, c: int, d: int) -> bool:\n",
    "    return len(set([a,b,c,d])) == 2"
   ]
  },
  {
   "cell_type": "code",
   "execution_count": 25,
   "metadata": {
    "scrolled": true
   },
   "outputs": [],
   "source": [
    "test_rectangles = np.random.randint(20, size=(10, 4))\n",
    "test = [is_rectangle_classic(a,b,c,d) == is_rectangle(a,b,c,d) for [a,b,c,d] in test_rectangles]\n",
    "assert all(test)"
   ]
  },
  {
   "cell_type": "code",
   "execution_count": null,
   "metadata": {},
   "outputs": [],
   "source": []
  }
 ],
 "metadata": {
  "kernelspec": {
   "display_name": "Python 3 (ipykernel)",
   "language": "python",
   "name": "python3"
  },
  "language_info": {
   "codemirror_mode": {
    "name": "ipython",
    "version": 3
   },
   "file_extension": ".py",
   "mimetype": "text/x-python",
   "name": "python",
   "nbconvert_exporter": "python",
   "pygments_lexer": "ipython3",
   "version": "3.8.10"
  }
 },
 "nbformat": 4,
 "nbformat_minor": 4
}
